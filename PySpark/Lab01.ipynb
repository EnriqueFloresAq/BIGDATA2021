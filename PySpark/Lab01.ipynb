{
 "cells": [
  {
   "cell_type": "markdown",
   "metadata": {},
   "source": [
    "```\n",
    "Flores Aquino Luis Enrique\n",
    "171564\n",
    "\n",
    "```"
   ]
  },
  {
   "cell_type": "code",
   "execution_count": 1,
   "metadata": {},
   "outputs": [],
   "source": [
    "import findspark\n",
    "findspark.init()\n",
    " \n",
    "import pyspark # only run after findspark.init()\n",
    "from pyspark.sql import SparkSession\n",
    "from pyspark import SparkContext\n",
    "spark = SparkSession.builder.getOrCreate()\n",
    "sc = SparkContext.getOrCreate()"
   ]
  },
  {
   "cell_type": "code",
   "execution_count": 3,
   "metadata": {},
   "outputs": [],
   "source": [
    "#Creamos un RDD con 200 números aleatorios entre 1 y 80 000\n",
    "import random\n",
    "import numpy as np"
   ]
  },
  {
   "cell_type": "markdown",
   "metadata": {},
   "source": [
    "# Creación de RDDs para trabajar"
   ]
  },
  {
   "cell_type": "code",
   "execution_count": 4,
   "metadata": {},
   "outputs": [
    {
     "data": {
      "text/plain": [
       "[(0, 78677),\n",
       " (1, 17834),\n",
       " (2, 13007),\n",
       " (3, 47871),\n",
       " (4, 42413),\n",
       " (5, 68261),\n",
       " (6, 47421),\n",
       " (7, 638),\n",
       " (8, 34272),\n",
       " (9, 33879),\n",
       " (10, 39680),\n",
       " (11, 69845),\n",
       " (12, 71359),\n",
       " (13, 50636),\n",
       " (14, 16716),\n",
       " (15, 46726),\n",
       " (16, 39741),\n",
       " (17, 15164),\n",
       " (18, 72280),\n",
       " (19, 34837),\n",
       " (20, 71705),\n",
       " (21, 37264),\n",
       " (22, 56951),\n",
       " (23, 5041),\n",
       " (24, 66082),\n",
       " (25, 69303),\n",
       " (26, 44360),\n",
       " (27, 22560),\n",
       " (28, 48141),\n",
       " (29, 20451),\n",
       " (30, 77173),\n",
       " (31, 8725),\n",
       " (32, 14357),\n",
       " (33, 63457),\n",
       " (34, 70130),\n",
       " (35, 8252),\n",
       " (36, 57325),\n",
       " (37, 74541),\n",
       " (38, 50151),\n",
       " (39, 4689),\n",
       " (40, 42203),\n",
       " (41, 27736),\n",
       " (42, 36767),\n",
       " (43, 6271),\n",
       " (44, 76876),\n",
       " (45, 54407),\n",
       " (46, 67798),\n",
       " (47, 21824),\n",
       " (48, 79015),\n",
       " (49, 59643),\n",
       " (50, 70244),\n",
       " (51, 1131),\n",
       " (52, 5022),\n",
       " (53, 42986),\n",
       " (54, 65174),\n",
       " (55, 47506),\n",
       " (56, 57646),\n",
       " (57, 32471),\n",
       " (58, 38849),\n",
       " (59, 36338),\n",
       " (60, 46173),\n",
       " (61, 64962),\n",
       " (62, 61742),\n",
       " (63, 18028),\n",
       " (64, 30444),\n",
       " (65, 68912),\n",
       " (66, 19594),\n",
       " (67, 38141),\n",
       " (68, 58875),\n",
       " (69, 66240),\n",
       " (70, 19033),\n",
       " (71, 1515),\n",
       " (72, 65259),\n",
       " (73, 68006),\n",
       " (74, 9398),\n",
       " (75, 45526),\n",
       " (76, 33256),\n",
       " (77, 13467),\n",
       " (78, 61812),\n",
       " (79, 35644),\n",
       " (80, 66772),\n",
       " (81, 66920),\n",
       " (82, 60652),\n",
       " (83, 68459),\n",
       " (84, 75289),\n",
       " (85, 68930),\n",
       " (86, 51742),\n",
       " (87, 12507),\n",
       " (88, 54920),\n",
       " (89, 4006),\n",
       " (90, 65993),\n",
       " (91, 3734),\n",
       " (92, 30949),\n",
       " (93, 73551),\n",
       " (94, 48392),\n",
       " (95, 649),\n",
       " (96, 9918),\n",
       " (97, 78567),\n",
       " (98, 47881),\n",
       " (99, 21182),\n",
       " (100, 38490),\n",
       " (101, 33592),\n",
       " (102, 32767),\n",
       " (103, 23630),\n",
       " (104, 58998),\n",
       " (105, 21463),\n",
       " (106, 34486),\n",
       " (107, 37245),\n",
       " (108, 29309),\n",
       " (109, 57841),\n",
       " (110, 78964),\n",
       " (111, 11307),\n",
       " (112, 32866),\n",
       " (113, 47558),\n",
       " (114, 31469),\n",
       " (115, 72051),\n",
       " (116, 77267),\n",
       " (117, 54047),\n",
       " (118, 66176),\n",
       " (119, 69978),\n",
       " (120, 32702),\n",
       " (121, 33082),\n",
       " (122, 68059),\n",
       " (123, 70318),\n",
       " (124, 54038),\n",
       " (125, 37092),\n",
       " (126, 11006),\n",
       " (127, 30739),\n",
       " (128, 1086),\n",
       " (129, 11927),\n",
       " (130, 79656),\n",
       " (131, 33445),\n",
       " (132, 15943),\n",
       " (133, 20851),\n",
       " (134, 59798),\n",
       " (135, 29632),\n",
       " (136, 42190),\n",
       " (137, 45606),\n",
       " (138, 73534),\n",
       " (139, 64784),\n",
       " (140, 61101),\n",
       " (141, 23747),\n",
       " (142, 23576),\n",
       " (143, 63668),\n",
       " (144, 61580),\n",
       " (145, 38032),\n",
       " (146, 6857),\n",
       " (147, 63200),\n",
       " (148, 68716),\n",
       " (149, 51440),\n",
       " (150, 1661),\n",
       " (151, 9648),\n",
       " (152, 1739),\n",
       " (153, 4711),\n",
       " (154, 74008),\n",
       " (155, 66178),\n",
       " (156, 10800),\n",
       " (157, 48374),\n",
       " (158, 77879),\n",
       " (159, 25218),\n",
       " (160, 65758),\n",
       " (161, 29920),\n",
       " (162, 64243),\n",
       " (163, 26422),\n",
       " (164, 43230),\n",
       " (165, 28676),\n",
       " (166, 61682),\n",
       " (167, 76289),\n",
       " (168, 76634),\n",
       " (169, 65539),\n",
       " (170, 55311),\n",
       " (171, 69173),\n",
       " (172, 25230),\n",
       " (173, 1243),\n",
       " (174, 44514),\n",
       " (175, 49191),\n",
       " (176, 399),\n",
       " (177, 28260),\n",
       " (178, 26718),\n",
       " (179, 71971),\n",
       " (180, 29992),\n",
       " (181, 22137),\n",
       " (182, 42549),\n",
       " (183, 30901),\n",
       " (184, 75829),\n",
       " (185, 50090),\n",
       " (186, 57384),\n",
       " (187, 56255),\n",
       " (188, 39104),\n",
       " (189, 55989),\n",
       " (190, 76395),\n",
       " (191, 76856),\n",
       " (192, 60591),\n",
       " (193, 61694),\n",
       " (194, 12651),\n",
       " (195, 73499),\n",
       " (196, 64730),\n",
       " (197, 58413),\n",
       " (198, 45756),\n",
       " (199, 16915)]"
      ]
     },
     "execution_count": 4,
     "metadata": {},
     "output_type": "execute_result"
    }
   ],
   "source": [
    "ValNumRDD = sc.parallelize(enumerate([random.randrange(1,80000) for x in range(200)]))\n",
    "ValNumRDD.collect()"
   ]
  },
  {
   "cell_type": "code",
   "execution_count": 5,
   "metadata": {},
   "outputs": [
    {
     "data": {
      "text/plain": [
       "[(0,\n",
       "  array([0.46997129, 0.87979162, 0.468592  , 0.51005056, 0.4145145 ,\n",
       "         0.57310935, 0.51117053, 0.6925502 , 0.05352629, 0.73919656])),\n",
       " (1,\n",
       "  array([0.79929682, 0.16302412, 0.65541745, 0.54228847, 0.56572423,\n",
       "         0.59898879, 0.32005012, 0.19040829, 0.25258824, 0.6763764 ])),\n",
       " (2,\n",
       "  array([0.17479978, 0.06850848, 0.63909742, 0.7935436 , 0.4792078 ,\n",
       "         0.06925793, 0.45332418, 0.13018427, 0.59294353, 0.70168498])),\n",
       " (3,\n",
       "  array([0.18648106, 0.69758402, 0.90239652, 0.12660522, 0.60421087,\n",
       "         0.88883708, 0.78293124, 0.76342763, 0.68194455, 0.98020855])),\n",
       " (4,\n",
       "  array([0.85882869, 0.47747034, 0.12143498, 0.57086278, 0.34949576,\n",
       "         0.9529193 , 0.76995698, 0.266803  , 0.64933589, 0.38116381])),\n",
       " (5,\n",
       "  array([0.01087064, 0.02347094, 0.94877726, 0.47936034, 0.53726644,\n",
       "         0.24841554, 0.47691774, 0.36091268, 0.58006855, 0.54650858])),\n",
       " (6,\n",
       "  array([0.1439867 , 0.45588409, 0.79287975, 0.38784958, 0.37174359,\n",
       "         0.52320534, 0.35642352, 0.92468815, 0.11871154, 0.33870431])),\n",
       " (7,\n",
       "  array([0.2536057 , 0.44663529, 0.27331598, 0.45650741, 0.60206603,\n",
       "         0.76000405, 0.55021409, 0.6133684 , 0.62152601, 0.74875596])),\n",
       " (8,\n",
       "  array([0.56099736, 0.75426589, 0.95245287, 0.65760843, 0.21166579,\n",
       "         0.82813132, 0.70954456, 0.44619985, 0.88088179, 0.39367009])),\n",
       " (9,\n",
       "  array([0.24454486, 0.11651643, 0.86085235, 0.17030117, 0.57031312,\n",
       "         0.12893943, 0.20414641, 0.69389083, 0.72196749, 0.22086061]))]"
      ]
     },
     "execution_count": 5,
     "metadata": {},
     "output_type": "execute_result"
    }
   ],
   "source": [
    "ValVectRDD = sc.parallelize(enumerate(np.random.random(size=(10,10))))\n",
    "ValVectRDD.collect()"
   ]
  },
  {
   "cell_type": "code",
   "execution_count": 22,
   "metadata": {},
   "outputs": [
    {
     "data": {
      "text/plain": [
       "[(0, array([1, 1, 0, 1, 1, 1, 1, 1, 0, 0])),\n",
       " (1, array([1, 0, 0, 0, 0, 0, 0, 1, 1, 1])),\n",
       " (2, array([1, 1, 0, 0, 1, 0, 1, 1, 1, 1])),\n",
       " (3, array([0, 1, 1, 1, 0, 0, 1, 1, 1, 1])),\n",
       " (4, array([1, 1, 1, 1, 1, 0, 0, 1, 0, 1])),\n",
       " (5, array([1, 1, 1, 1, 1, 1, 0, 0, 1, 0])),\n",
       " (6, array([0, 1, 1, 0, 1, 1, 1, 0, 1, 0])),\n",
       " (7, array([0, 1, 0, 0, 0, 0, 1, 0, 1, 0])),\n",
       " (8, array([1, 1, 1, 0, 0, 1, 0, 0, 1, 0])),\n",
       " (9, array([1, 0, 1, 0, 0, 1, 1, 1, 1, 1]))]"
      ]
     },
     "execution_count": 22,
     "metadata": {},
     "output_type": "execute_result"
    }
   ],
   "source": [
    "ValVectBinRDD = sc.parallelize(enumerate(np.random.choice([0, 1], size=(10,10))))\n",
    "ValVectBinRDD.collect()"
   ]
  },
  {
   "cell_type": "code",
   "execution_count": 54,
   "metadata": {},
   "outputs": [
    {
     "data": {
      "text/plain": [
       "[(0,\n",
       "  array([[5.71798282e-01, 4.44559824e-01, 7.46036343e-01],\n",
       "         [7.92594732e-02, 5.98118753e-01, 5.49318978e-01],\n",
       "         [7.71943256e-04, 8.00102487e-01, 5.22981155e-01]])),\n",
       " (1,\n",
       "  array([[0.10911076, 0.53541683, 0.56874864],\n",
       "         [0.21766427, 0.38358031, 0.59723593],\n",
       "         [0.81848412, 0.36765953, 0.81144723]])),\n",
       " (2,\n",
       "  array([[0.51872346, 0.55004093, 0.31972728],\n",
       "         [0.47888028, 0.26982868, 0.6487898 ],\n",
       "         [0.21957033, 0.92420798, 0.0231687 ]])),\n",
       " (3,\n",
       "  array([[0.44630894, 0.11729806, 0.19052606],\n",
       "         [0.46597256, 0.21278736, 0.28553493],\n",
       "         [0.04521515, 0.4315522 , 0.46449775]])),\n",
       " (4,\n",
       "  array([[0.8019095 , 0.62289346, 0.6382211 ],\n",
       "         [0.45247016, 0.93251568, 0.94567832],\n",
       "         [0.28286487, 0.85043685, 0.73070744]])),\n",
       " (5,\n",
       "  array([[0.33059971, 0.03874118, 0.16493263],\n",
       "         [0.38323402, 0.34227284, 0.23023345],\n",
       "         [0.35805536, 0.76780555, 0.50706803]])),\n",
       " (6,\n",
       "  array([[0.19721932, 0.93997185, 0.38228925],\n",
       "         [0.91703083, 0.22587872, 0.21512995],\n",
       "         [0.29016265, 0.63616032, 0.08717455]])),\n",
       " (7,\n",
       "  array([[0.57615282, 0.88502292, 0.27787964],\n",
       "         [0.63101281, 0.42976289, 0.03707467],\n",
       "         [0.67791627, 0.08673085, 0.33105111]])),\n",
       " (8,\n",
       "  array([[0.05902636, 0.62206766, 0.52206342],\n",
       "         [0.86741168, 0.15638731, 0.16944039],\n",
       "         [0.62455889, 0.14730168, 0.26398264]])),\n",
       " (9,\n",
       "  array([[0.81270589, 0.91775098, 0.90706671],\n",
       "         [0.99469629, 0.91725463, 0.69999877],\n",
       "         [0.58843675, 0.7383852 , 0.82361105]]))]"
      ]
     },
     "execution_count": 54,
     "metadata": {},
     "output_type": "execute_result"
    }
   ],
   "source": [
    "ValMatxRDD = sc.parallelize(enumerate(np.random.rand(10,3,3)))\n",
    "ValMatxRDD.collect()"
   ]
  },
  {
   "cell_type": "markdown",
   "metadata": {},
   "source": [
    "# SIMILITUD COSENO"
   ]
  },
  {
   "cell_type": "code",
   "execution_count": 6,
   "metadata": {},
   "outputs": [
    {
     "data": {
      "text/plain": [
       "0.0012345679012345679"
      ]
     },
     "execution_count": 6,
     "metadata": {},
     "output_type": "execute_result"
    }
   ],
   "source": [
    "def DistCos(Val1, Val2):\n",
    "    return Val1*Val2/(Val1*Val1*Val2*Val2)\n",
    "DistCos(15,54)"
   ]
  },
  {
   "cell_type": "code",
   "execution_count": 7,
   "metadata": {},
   "outputs": [
    {
     "name": "stdout",
     "output_type": "stream",
     "text": [
      "1.5760246714785397e-10 6.281367579349376e-06 7.2234138946818226e-09\n"
     ]
    }
   ],
   "source": [
    "#Calculamos la distancia coseno de todas los valore\n",
    "#Primero hacemos un producto cartesiano\n",
    "cartNumRDD = ValNumRDD.cartesian(ValNumRDD)\n",
    "\n",
    "#Agrupamos de la forma ((llave 1, llave 2),(valor 1, valor 2))\n",
    "cartPointsParesRDD = cartNumRDD.map(lambda x: ((x[0][0], x[1][0]), (x[0][1],x[1][1])))\n",
    "\n",
    "#Aplicamos la distancia de cosenos mediante una funcion lambda dentro de otra funcion\n",
    "DistCosRDD = cartPointsParesRDD.map(lambda x: (x[0], DistCos(x[1][0],x[1][1])))\n",
    "\n",
    "#Obtenemos la distancia coseno de cada producto cartesiano\n",
    "statRDD = DistCosRDD.map(lambda x: x[1])\n",
    "\n",
    "minv, maxv, meanv = statRDD.min(), statRDD.max(), statRDD.mean()\n",
    "print (minv, maxv, meanv)"
   ]
  },
  {
   "cell_type": "markdown",
   "metadata": {},
   "source": [
    "# Distancia de Minkowski"
   ]
  },
  {
   "cell_type": "code",
   "execution_count": 8,
   "metadata": {},
   "outputs": [],
   "source": [
    "def creatorMinkowski(p):\n",
    "    def Minkowski(Val1, Val2):\n",
    "        Temp = (abs(Val1-Val2)**p)\n",
    "        return Temp.sum()**(1/p)\n",
    "    return Minkowski"
   ]
  },
  {
   "cell_type": "code",
   "execution_count": 9,
   "metadata": {},
   "outputs": [],
   "source": [
    "Minkowski = creatorMinkowski(2)"
   ]
  },
  {
   "cell_type": "code",
   "execution_count": 10,
   "metadata": {},
   "outputs": [
    {
     "name": "stdout",
     "output_type": "stream",
     "text": [
      "0.0 1.5735441521482092 1.0163720543654766\n"
     ]
    }
   ],
   "source": [
    "#Calculamos la distancia Minkowski de todas los valores\n",
    "#Primero hacemos un producto cartesiano\n",
    "cartVectRDD = ValVectRDD.cartesian(ValVectRDD)\n",
    "\n",
    "#Agrupamos de la forma ((llave 1, llave 2),(valor 1, valor 2))\n",
    "cartPointsParesRDD = cartVectRDD.map(lambda x: ((x[0][0], x[1][0]), (x[0][1],x[1][1])))\n",
    "\n",
    "#Aplicamos la distancia de cosenos mediante una funcion lambda dentro de otra funcion\n",
    "DistMinkRDD = cartPointsParesRDD.map(lambda x: (x[0], Minkowski(x[1][0],x[1][1])))\n",
    "\n",
    "#Obtenemos la distancia coseno de cada producto cartesiano\n",
    "statRDD = DistMinkRDD.map(lambda x: x[1])\n",
    "\n",
    "minv, maxv, meanv = statRDD.min(), statRDD.max(), statRDD.mean()\n",
    "print (minv, maxv, meanv)"
   ]
  },
  {
   "cell_type": "markdown",
   "metadata": {},
   "source": [
    "# Distancia de Jaccard"
   ]
  },
  {
   "cell_type": "code",
   "execution_count": 97,
   "metadata": {},
   "outputs": [
    {
     "data": {
      "text/plain": [
       "0.5"
      ]
     },
     "execution_count": 97,
     "metadata": {},
     "output_type": "execute_result"
    }
   ],
   "source": [
    "def Jaccard(val1,val2):\n",
    "    old_settings = np.seterr(divide='raise')\n",
    "    try:\n",
    "        temp = sum(val1*val2)/sum(np.logical_xor(val1,val2))\n",
    "    except FloatingPointError:\n",
    "        temp = 1\n",
    "    return 1 - temp\n",
    "val1 = np.array([1,0,1,0,0])\n",
    "val2 = np.array([0,1,1,0,0])\n",
    "Jaccard(val1,val2)"
   ]
  },
  {
   "cell_type": "code",
   "execution_count": 99,
   "metadata": {},
   "outputs": [
    {
     "name": "stdout",
     "output_type": "stream",
     "text": [
      "-1.5 0.875 0.16666666666666666\n"
     ]
    }
   ],
   "source": [
    "#Calculamos la distancia Minkowski de todas los valores\n",
    "#Primero hacemos un producto cartesiano\n",
    "cartVectBinRDD = ValVectBinRDD.cartesian(ValVectBinRDD)\n",
    "\n",
    "#Agrupamos de la forma ((llave 1, llave 2),(valor 1, valor 2))\n",
    "cartPointsParesRDD = cartVectBinRDD.map(lambda x: ((x[0][0], x[1][0]), (x[0][1],x[1][1])))\n",
    "\n",
    "#Aplicamos la distancia de cosenos mediante una funcion lambda dentro de otra funcion\n",
    "DistJaccRDD = cartPointsParesRDD.map(lambda x: (x[0], Jaccard(x[1][0],x[1][1])))\n",
    "\n",
    "#Obtenemos la distancia coseno de cada producto cartesiano\n",
    "statRDD = DistJaccRDD.map(lambda x: x[1])\n",
    "minv, maxv, meanv = statRDD.min(), statRDD.max(), statRDD.mean()\n",
    "print (minv, maxv, meanv)"
   ]
  },
  {
   "cell_type": "markdown",
   "metadata": {},
   "source": [
    "# Estandarización"
   ]
  },
  {
   "cell_type": "code",
   "execution_count": 55,
   "metadata": {},
   "outputs": [
    {
     "name": "stdout",
     "output_type": "stream",
     "text": [
      "[[0.05123063 0.84596248 0.07354012 0.95397091]\n",
      " [0.60263523 0.30862434 0.93081903 0.52939766]\n",
      " [0.62317936 0.65003997 0.34310584 0.6389091 ]]\n"
     ]
    },
    {
     "data": {
      "text/plain": [
       "matrix([[1.26582051, 3.15533082, 1.3188623 , 3.41212565],\n",
       "        [5.35813455, 4.04040619, 6.8290226 , 5.02989086],\n",
       "        [9.28933635, 9.49954674, 7.09748829, 9.41243688]])"
      ]
     },
     "execution_count": 55,
     "metadata": {},
     "output_type": "execute_result"
    }
   ],
   "source": [
    "def Estandarizacion(Val1):\n",
    "    valTemp = []\n",
    "    for k in range (Val1.shape[0]):\n",
    "        valTemp.append((Val1[k]+np.mean(Val1[k]))/np.std(Val1[k]))\n",
    "    return np.asmatrix(valTemp)\n",
    "Val1 = np.random.rand(3,4)\n",
    "print(Val1)\n",
    "Estandarizacion(Val1)"
   ]
  },
  {
   "cell_type": "code",
   "execution_count": 71,
   "metadata": {},
   "outputs": [
    {
     "data": {
      "text/plain": [
       "[matrix([[ 9.38106264,  8.35141548, 10.79104296],\n",
       "         [ 2.08668055,  4.30459435,  4.09599503],\n",
       "         [ 1.33391188,  3.74589987,  2.90968345]]),\n",
       " matrix([[2.45403583, 4.49122503, 4.6505078 ],\n",
       "         [3.97224536, 5.0401396 , 6.4153026 ],\n",
       "         [7.03876963, 4.90096168, 7.00540071]]),\n",
       " matrix([[9.62366238, 9.93071508, 7.67260112],\n",
       "         [6.09551097, 4.74666102, 7.191807  ],\n",
       "         [1.5730486 , 3.39446739, 1.06536976]]),\n",
       " matrix([[4.94666179, 2.61394463, 3.13313786],\n",
       "         [7.39809019, 5.01927764, 5.70278063],\n",
       "         [1.88572281, 3.91520774, 4.08827551]]),\n",
       " matrix([[18.385792  , 16.17621451, 16.3654021 ],\n",
       "         [ 5.35759058,  7.44964751,  7.5070108 ],\n",
       "         [ 3.70155871,  6.02504697,  5.5349067 ]]),\n",
       " matrix([[ 4.25634704,  1.81429188,  2.87016812],\n",
       "         [10.85224551, 10.21885737,  8.48637731],\n",
       "         [ 5.32872019,  7.74841079,  6.20868209]]),\n",
       " matrix([[2.22912541, 4.58191557, 2.81536468],\n",
       "         [4.1711775 , 2.06641317, 2.03367999],\n",
       "         [2.77085477, 4.29747366, 1.87522597]]),\n",
       " matrix([[4.66293466, 5.90899266, 3.45962727],\n",
       "         [4.04222858, 3.22625224, 1.63408117],\n",
       "         [4.30062256, 1.86332422, 2.87059086]]),\n",
       " matrix([[1.87579982, 4.1713907 , 3.76366071],\n",
       "         [3.80903981, 1.66834291, 1.7076421 ],\n",
       "         [4.77417099, 2.42480654, 2.99918467]]),\n",
       " matrix([[35.84311029, 38.06852929, 37.84217904],\n",
       "         [14.95369551, 14.33287838, 12.59122955],\n",
       "         [13.42655023, 14.96900864, 15.84569222]])]"
      ]
     },
     "execution_count": 71,
     "metadata": {},
     "output_type": "execute_result"
    }
   ],
   "source": [
    "#Aplicamos la estandarización mediante una funcion lambda dentro de otra funcion\n",
    "StdRDD = ValMatxRDD.map(lambda x: (x[0], Estandarizacion(x[1])))\n",
    "\n",
    "#Obtenemos la estandarización de cada elemento\n",
    "statRDD = StdRDD.map(lambda x: x[1])\n",
    "statRDD.collect()\n"
   ]
  },
  {
   "cell_type": "markdown",
   "metadata": {},
   "source": [
    "# Escalonamiento"
   ]
  },
  {
   "cell_type": "code",
   "execution_count": 48,
   "metadata": {},
   "outputs": [
    {
     "name": "stdout",
     "output_type": "stream",
     "text": [
      "[[0.97905161 0.28280459 0.0996767  0.80566282]\n",
      " [0.37136098 0.01933104 0.41816672 0.2386946 ]\n",
      " [0.66728589 0.17514312 0.72847569 0.74976467]]\n",
      "===\n"
     ]
    },
    {
     "data": {
      "text/plain": [
       "matrix([[4.2045017 , 2.2796763 , 1.77340596, 3.72515581],\n",
       "        [4.09231601, 1.81735462, 4.39479383, 3.23497159],\n",
       "        [5.29046482, 3.20328116, 5.54997152, 5.64025834]])"
      ]
     },
     "execution_count": 48,
     "metadata": {},
     "output_type": "execute_result"
    }
   ],
   "source": [
    "def Escalonamiento(Val1):\n",
    "    valTemp = []\n",
    "    for k in range (Val1.shape[0]):\n",
    "        maxVal = np.max(Val1[k])\n",
    "        valTemp.append((Val1[k]-maxVal)/ (maxVal-np.min(Val1[k])))\n",
    "    return np.asmatrix(valTemp)\n",
    "Val1 = np.random.rand(3,4)\n",
    "print(Val1)\n",
    "print(\"===\")\n",
    "Estandarizacion(Val1)"
   ]
  },
  {
   "cell_type": "code",
   "execution_count": 69,
   "metadata": {},
   "outputs": [
    {
     "data": {
      "text/plain": [
       "[matrix([[-0.57794902, -1.        ,  0.        ],\n",
       "         [-1.        ,  0.        , -0.09405204],\n",
       "         [-1.        ,  0.        , -0.34669178]]),\n",
       " matrix([[-1.        , -0.07251755,  0.        ],\n",
       "         [-1.        , -0.56288612,  0.        ],\n",
       "         [ 0.        , -1.        , -0.01560894]]),\n",
       " matrix([[-0.13597751,  0.        , -1.        ],\n",
       "         [-0.44835607, -1.        ,  0.        ],\n",
       "         [-0.78202767,  0.        , -1.        ]]),\n",
       " matrix([[ 0.        , -1.        , -0.77742984],\n",
       "         [ 0.        , -1.        , -0.71267051],\n",
       "         [-1.        , -0.07857599,  0.        ]]),\n",
       " matrix([[ 0.        , -1.        , -0.91437839],\n",
       "         [-1.        , -0.0266878 ,  0.        ],\n",
       "         [-1.        ,  0.        , -0.21095018]]),\n",
       " matrix([[ 0.        , -1.        , -0.56762801],\n",
       "         [ 0.        , -0.26771912, -1.        ],\n",
       "         [-1.        ,  0.        , -0.63633288]]),\n",
       " matrix([[-1.        ,  0.        , -0.75083232],\n",
       "         [ 0.        , -0.98468621, -1.        ],\n",
       "         [-0.63024888,  0.        , -1.        ]]),\n",
       " matrix([[-0.50872687,  0.        , -1.        ],\n",
       "         [ 0.        , -0.33883986, -1.        ],\n",
       "         [ 0.        , -1.        , -0.58672821]]),\n",
       " matrix([[-1.        ,  0.        , -0.1776144 ],\n",
       "         [ 0.        , -1.        , -0.98164187],\n",
       "         [ 0.        , -1.        , -0.75551766]]),\n",
       " matrix([[-1.        ,  0.        , -0.10171129],\n",
       "         [ 0.        , -0.26278353, -1.        ],\n",
       "         [-1.        , -0.36239443,  0.        ]])]"
      ]
     },
     "execution_count": 69,
     "metadata": {},
     "output_type": "execute_result"
    }
   ],
   "source": [
    "#Aplicamos la funcion de escalonamiento mediante una funcion lambda dentro de otra funcion\n",
    "EscalonamientoRDD = ValMatxRDD.map(lambda x: (x[0], Escalonamiento(x[1])))\n",
    "#Obtenemos la matriz escalonada de cada elemento\n",
    "statRDD = EscalonamientoRDD.map(lambda x: x[1])\n",
    "statRDD.collect()"
   ]
  }
 ],
 "metadata": {
  "interpreter": {
   "hash": "e485bbce4d9cf528ac6f1a43102d5e4587905ee7b4575fabcf04769f00807e2f"
  },
  "kernelspec": {
   "display_name": "Python 3.9.1 64-bit",
   "language": "python",
   "name": "python3"
  },
  "language_info": {
   "codemirror_mode": {
    "name": "ipython",
    "version": 3
   },
   "file_extension": ".py",
   "mimetype": "text/x-python",
   "name": "python",
   "nbconvert_exporter": "python",
   "pygments_lexer": "ipython3",
   "version": "3.9.1"
  },
  "orig_nbformat": 4
 },
 "nbformat": 4,
 "nbformat_minor": 2
}
